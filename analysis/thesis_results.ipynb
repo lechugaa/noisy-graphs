{
 "cells": [
  {
   "cell_type": "code",
   "execution_count": 1,
   "metadata": {},
   "outputs": [],
   "source": [
    "import pandas as pd\n",
    "import seaborn as sns\n",
    "import matplotlib.pyplot as plt"
   ]
  },
  {
   "cell_type": "code",
   "execution_count": 2,
   "metadata": {
    "pycharm": {
     "name": "#%%\n"
    }
   },
   "outputs": [],
   "source": [
    "sns.set_context('paper')\n",
    "metrics = ['dc', 'bc', 'cc', 'ec']"
   ]
  },
  {
   "cell_type": "markdown",
   "metadata": {
    "pycharm": {
     "name": "#%% md\n"
    }
   },
   "source": [
    "# Helper functions"
   ]
  },
  {
   "cell_type": "code",
   "execution_count": 3,
   "metadata": {
    "pycharm": {
     "name": "#%%\n"
    }
   },
   "outputs": [],
   "source": [
    "def count_missing_values(df):\n",
    "    #counting missing observations\n",
    "    na_df = pd.DataFrame(df.isnull().sum())\n",
    "    na_df.columns = ['missing_observations']\n",
    "\n",
    "    na_df['percentage'] = (na_df.missing_observations / df.shape[0]).mul(100).round(2).astype(str)+'%'\n",
    "\n",
    "    # formatting numeric values with commas\n",
    "    na_df.missing_observations = na_df.missing_observations.map('{:,}'.format)\n",
    "    na_df = pd.DataFrame(data=na_df)\n",
    "\n",
    "    return na_df"
   ]
  },
  {
   "cell_type": "markdown",
   "metadata": {},
   "source": [
    "# Barabási Albert"
   ]
  },
  {
   "cell_type": "code",
   "execution_count": 4,
   "metadata": {
    "pycharm": {
     "name": "#%%\n"
    }
   },
   "outputs": [
    {
     "data": {
      "text/html": [
       "<div>\n",
       "<style scoped>\n",
       "    .dataframe tbody tr th:only-of-type {\n",
       "        vertical-align: middle;\n",
       "    }\n",
       "\n",
       "    .dataframe tbody tr th {\n",
       "        vertical-align: top;\n",
       "    }\n",
       "\n",
       "    .dataframe thead th {\n",
       "        text-align: right;\n",
       "    }\n",
       "</style>\n",
       "<table border=\"1\" class=\"dataframe\">\n",
       "  <thead>\n",
       "    <tr style=\"text-align: right;\">\n",
       "      <th></th>\n",
       "      <th>exp_name</th>\n",
       "      <th>sigma_mean</th>\n",
       "      <th>sigma_variance</th>\n",
       "      <th>uncertainty_mean</th>\n",
       "      <th>uncertainty_variance</th>\n",
       "      <th>dc_distance</th>\n",
       "      <th>dc_correlation</th>\n",
       "      <th>dc_mean_change</th>\n",
       "      <th>bc_distance</th>\n",
       "      <th>bc_correlation</th>\n",
       "      <th>bc_mean_change</th>\n",
       "      <th>cc_distance</th>\n",
       "      <th>cc_correlation</th>\n",
       "      <th>cc_mean_change</th>\n",
       "      <th>ec_distance</th>\n",
       "      <th>ec_correlation</th>\n",
       "      <th>ec_mean_change</th>\n",
       "    </tr>\n",
       "  </thead>\n",
       "  <tbody>\n",
       "    <tr>\n",
       "      <th>0</th>\n",
       "      <td>BA_100_0.1_0.1</td>\n",
       "      <td>1.118249</td>\n",
       "      <td>0.120379</td>\n",
       "      <td>7.241849</td>\n",
       "      <td>13.427769</td>\n",
       "      <td>0.019394</td>\n",
       "      <td>0.988419</td>\n",
       "      <td>0.106667</td>\n",
       "      <td>0.000606</td>\n",
       "      <td>0.987063</td>\n",
       "      <td>0.039266</td>\n",
       "      <td>0.009923</td>\n",
       "      <td>0.977906</td>\n",
       "      <td>0.018363</td>\n",
       "      <td>0.001650</td>\n",
       "      <td>0.993663</td>\n",
       "      <td>0.000009</td>\n",
       "    </tr>\n",
       "    <tr>\n",
       "      <th>1</th>\n",
       "      <td>BA_100_0.1_0.2</td>\n",
       "      <td>1.084331</td>\n",
       "      <td>0.016835</td>\n",
       "      <td>12.493792</td>\n",
       "      <td>42.395566</td>\n",
       "      <td>0.038788</td>\n",
       "      <td>0.996688</td>\n",
       "      <td>0.213333</td>\n",
       "      <td>0.000807</td>\n",
       "      <td>0.989175</td>\n",
       "      <td>0.079473</td>\n",
       "      <td>0.020659</td>\n",
       "      <td>0.960372</td>\n",
       "      <td>0.038231</td>\n",
       "      <td>0.003025</td>\n",
       "      <td>0.984638</td>\n",
       "      <td>0.013365</td>\n",
       "    </tr>\n",
       "    <tr>\n",
       "      <th>2</th>\n",
       "      <td>BA_100_0.1_0.3</td>\n",
       "      <td>1.082845</td>\n",
       "      <td>0.005145</td>\n",
       "      <td>16.662847</td>\n",
       "      <td>76.224838</td>\n",
       "      <td>0.058384</td>\n",
       "      <td>1.000000</td>\n",
       "      <td>0.321111</td>\n",
       "      <td>0.001144</td>\n",
       "      <td>0.985503</td>\n",
       "      <td>0.109570</td>\n",
       "      <td>0.029260</td>\n",
       "      <td>0.952379</td>\n",
       "      <td>0.054149</td>\n",
       "      <td>0.003559</td>\n",
       "      <td>0.978434</td>\n",
       "      <td>0.016006</td>\n",
       "    </tr>\n",
       "    <tr>\n",
       "      <th>3</th>\n",
       "      <td>BA_100_0.1_0.4</td>\n",
       "      <td>1.052547</td>\n",
       "      <td>0.002509</td>\n",
       "      <td>19.866338</td>\n",
       "      <td>111.981116</td>\n",
       "      <td>0.076162</td>\n",
       "      <td>1.000000</td>\n",
       "      <td>0.418889</td>\n",
       "      <td>0.001216</td>\n",
       "      <td>0.983642</td>\n",
       "      <td>0.134258</td>\n",
       "      <td>0.036717</td>\n",
       "      <td>0.946967</td>\n",
       "      <td>0.067949</td>\n",
       "      <td>0.003689</td>\n",
       "      <td>0.973285</td>\n",
       "      <td>0.017686</td>\n",
       "    </tr>\n",
       "    <tr>\n",
       "      <th>4</th>\n",
       "      <td>BA_100_0.1_0.5</td>\n",
       "      <td>1.024542</td>\n",
       "      <td>0.001657</td>\n",
       "      <td>22.429234</td>\n",
       "      <td>135.844970</td>\n",
       "      <td>0.092323</td>\n",
       "      <td>0.999964</td>\n",
       "      <td>0.507778</td>\n",
       "      <td>0.001344</td>\n",
       "      <td>0.977870</td>\n",
       "      <td>0.153304</td>\n",
       "      <td>0.042660</td>\n",
       "      <td>0.935854</td>\n",
       "      <td>0.078948</td>\n",
       "      <td>0.003708</td>\n",
       "      <td>0.971629</td>\n",
       "      <td>0.017008</td>\n",
       "    </tr>\n",
       "  </tbody>\n",
       "</table>\n",
       "</div>"
      ],
      "text/plain": [
       "         exp_name  sigma_mean  sigma_variance  uncertainty_mean  \\\n",
       "0  BA_100_0.1_0.1    1.118249        0.120379          7.241849   \n",
       "1  BA_100_0.1_0.2    1.084331        0.016835         12.493792   \n",
       "2  BA_100_0.1_0.3    1.082845        0.005145         16.662847   \n",
       "3  BA_100_0.1_0.4    1.052547        0.002509         19.866338   \n",
       "4  BA_100_0.1_0.5    1.024542        0.001657         22.429234   \n",
       "\n",
       "   uncertainty_variance  dc_distance  dc_correlation  dc_mean_change  \\\n",
       "0             13.427769     0.019394        0.988419        0.106667   \n",
       "1             42.395566     0.038788        0.996688        0.213333   \n",
       "2             76.224838     0.058384        1.000000        0.321111   \n",
       "3            111.981116     0.076162        1.000000        0.418889   \n",
       "4            135.844970     0.092323        0.999964        0.507778   \n",
       "\n",
       "   bc_distance  bc_correlation  bc_mean_change  cc_distance  cc_correlation  \\\n",
       "0     0.000606        0.987063        0.039266     0.009923        0.977906   \n",
       "1     0.000807        0.989175        0.079473     0.020659        0.960372   \n",
       "2     0.001144        0.985503        0.109570     0.029260        0.952379   \n",
       "3     0.001216        0.983642        0.134258     0.036717        0.946967   \n",
       "4     0.001344        0.977870        0.153304     0.042660        0.935854   \n",
       "\n",
       "   cc_mean_change  ec_distance  ec_correlation  ec_mean_change  \n",
       "0        0.018363     0.001650        0.993663        0.000009  \n",
       "1        0.038231     0.003025        0.984638        0.013365  \n",
       "2        0.054149     0.003559        0.978434        0.016006  \n",
       "3        0.067949     0.003689        0.973285        0.017686  \n",
       "4        0.078948     0.003708        0.971629        0.017008  "
      ]
     },
     "execution_count": 4,
     "metadata": {},
     "output_type": "execute_result"
    }
   ],
   "source": [
    "path = \"../results/BA.csv\"\n",
    "ba_df = pd.read_csv(path)\n",
    "ba_df.head()"
   ]
  },
  {
   "cell_type": "code",
   "execution_count": 5,
   "metadata": {
    "pycharm": {
     "name": "#%%\n"
    }
   },
   "outputs": [
    {
     "data": {
      "text/html": [
       "<div>\n",
       "<style scoped>\n",
       "    .dataframe tbody tr th:only-of-type {\n",
       "        vertical-align: middle;\n",
       "    }\n",
       "\n",
       "    .dataframe tbody tr th {\n",
       "        vertical-align: top;\n",
       "    }\n",
       "\n",
       "    .dataframe thead th {\n",
       "        text-align: right;\n",
       "    }\n",
       "</style>\n",
       "<table border=\"1\" class=\"dataframe\">\n",
       "  <thead>\n",
       "    <tr style=\"text-align: right;\">\n",
       "      <th></th>\n",
       "      <th>sigma_mean</th>\n",
       "      <th>sigma_variance</th>\n",
       "      <th>uncertainty_mean</th>\n",
       "      <th>uncertainty_variance</th>\n",
       "      <th>dc_distance</th>\n",
       "      <th>dc_correlation</th>\n",
       "      <th>dc_mean_change</th>\n",
       "      <th>bc_distance</th>\n",
       "      <th>bc_correlation</th>\n",
       "      <th>bc_mean_change</th>\n",
       "      <th>cc_distance</th>\n",
       "      <th>cc_correlation</th>\n",
       "      <th>cc_mean_change</th>\n",
       "      <th>ec_distance</th>\n",
       "      <th>ec_correlation</th>\n",
       "      <th>ec_mean_change</th>\n",
       "      <th>n</th>\n",
       "      <th>m_frac</th>\n",
       "      <th>r</th>\n",
       "    </tr>\n",
       "  </thead>\n",
       "  <tbody>\n",
       "    <tr>\n",
       "      <th>0</th>\n",
       "      <td>1.118249</td>\n",
       "      <td>0.120379</td>\n",
       "      <td>7.241849</td>\n",
       "      <td>13.427769</td>\n",
       "      <td>0.019394</td>\n",
       "      <td>0.988419</td>\n",
       "      <td>0.106667</td>\n",
       "      <td>0.000606</td>\n",
       "      <td>0.987063</td>\n",
       "      <td>0.039266</td>\n",
       "      <td>0.009923</td>\n",
       "      <td>0.977906</td>\n",
       "      <td>0.018363</td>\n",
       "      <td>0.00165</td>\n",
       "      <td>0.993663</td>\n",
       "      <td>0.000009</td>\n",
       "      <td>100</td>\n",
       "      <td>0.1</td>\n",
       "      <td>0.1</td>\n",
       "    </tr>\n",
       "  </tbody>\n",
       "</table>\n",
       "</div>"
      ],
      "text/plain": [
       "   sigma_mean  sigma_variance  uncertainty_mean  uncertainty_variance  \\\n",
       "0    1.118249        0.120379          7.241849             13.427769   \n",
       "\n",
       "   dc_distance  dc_correlation  dc_mean_change  bc_distance  bc_correlation  \\\n",
       "0     0.019394        0.988419        0.106667     0.000606        0.987063   \n",
       "\n",
       "   bc_mean_change  cc_distance  cc_correlation  cc_mean_change  ec_distance  \\\n",
       "0        0.039266     0.009923        0.977906        0.018363      0.00165   \n",
       "\n",
       "   ec_correlation  ec_mean_change    n m_frac    r  \n",
       "0        0.993663        0.000009  100    0.1  0.1  "
      ]
     },
     "execution_count": 5,
     "metadata": {},
     "output_type": "execute_result"
    }
   ],
   "source": [
    "ba_df[['model', 'n', 'm_frac', 'r']] = ba_df.exp_name.str.split('_', expand=True)\n",
    "ba_df = ba_df.drop(['exp_name', 'model'], axis=1)\n",
    "ba_df.head(1)"
   ]
  },
  {
   "cell_type": "code",
   "execution_count": 6,
   "metadata": {
    "pycharm": {
     "name": "#%%\n"
    }
   },
   "outputs": [
    {
     "data": {
      "text/plain": [
       "sigma_mean              float64\n",
       "sigma_variance          float64\n",
       "uncertainty_mean        float64\n",
       "uncertainty_variance    float64\n",
       "dc_distance             float64\n",
       "dc_correlation          float64\n",
       "dc_mean_change          float64\n",
       "bc_distance             float64\n",
       "bc_correlation          float64\n",
       "bc_mean_change          float64\n",
       "cc_distance             float64\n",
       "cc_correlation          float64\n",
       "cc_mean_change          float64\n",
       "ec_distance             float64\n",
       "ec_correlation          float64\n",
       "ec_mean_change          float64\n",
       "n                         int64\n",
       "m_frac                  float64\n",
       "r                       float64\n",
       "dtype: object"
      ]
     },
     "execution_count": 6,
     "metadata": {},
     "output_type": "execute_result"
    }
   ],
   "source": [
    "ba_df.n = ba_df.n.astype(int)\n",
    "ba_df.m_frac = ba_df.m_frac.astype(float)\n",
    "ba_df.r = ba_df.r.astype(float)\n",
    "ba_df.dtypes"
   ]
  },
  {
   "cell_type": "code",
   "execution_count": 7,
   "metadata": {},
   "outputs": [],
   "source": [
    "ba_df = ba_df.rename(columns={'m_frac': 'm / n'})\n",
    "col_wrap = 3"
   ]
  },
  {
   "cell_type": "code",
   "execution_count": 8,
   "metadata": {
    "pycharm": {
     "name": "#%%\n"
    }
   },
   "outputs": [
    {
     "data": {
      "text/html": [
       "<div>\n",
       "<style scoped>\n",
       "    .dataframe tbody tr th:only-of-type {\n",
       "        vertical-align: middle;\n",
       "    }\n",
       "\n",
       "    .dataframe tbody tr th {\n",
       "        vertical-align: top;\n",
       "    }\n",
       "\n",
       "    .dataframe thead th {\n",
       "        text-align: right;\n",
       "    }\n",
       "</style>\n",
       "<table border=\"1\" class=\"dataframe\">\n",
       "  <thead>\n",
       "    <tr style=\"text-align: right;\">\n",
       "      <th></th>\n",
       "      <th>missing_observations</th>\n",
       "      <th>percentage</th>\n",
       "    </tr>\n",
       "  </thead>\n",
       "  <tbody>\n",
       "    <tr>\n",
       "      <th>sigma_mean</th>\n",
       "      <td>0</td>\n",
       "      <td>0.0%</td>\n",
       "    </tr>\n",
       "    <tr>\n",
       "      <th>sigma_variance</th>\n",
       "      <td>0</td>\n",
       "      <td>0.0%</td>\n",
       "    </tr>\n",
       "    <tr>\n",
       "      <th>uncertainty_mean</th>\n",
       "      <td>0</td>\n",
       "      <td>0.0%</td>\n",
       "    </tr>\n",
       "    <tr>\n",
       "      <th>uncertainty_variance</th>\n",
       "      <td>0</td>\n",
       "      <td>0.0%</td>\n",
       "    </tr>\n",
       "    <tr>\n",
       "      <th>dc_distance</th>\n",
       "      <td>0</td>\n",
       "      <td>0.0%</td>\n",
       "    </tr>\n",
       "    <tr>\n",
       "      <th>dc_correlation</th>\n",
       "      <td>0</td>\n",
       "      <td>0.0%</td>\n",
       "    </tr>\n",
       "    <tr>\n",
       "      <th>dc_mean_change</th>\n",
       "      <td>0</td>\n",
       "      <td>0.0%</td>\n",
       "    </tr>\n",
       "    <tr>\n",
       "      <th>bc_distance</th>\n",
       "      <td>0</td>\n",
       "      <td>0.0%</td>\n",
       "    </tr>\n",
       "    <tr>\n",
       "      <th>bc_correlation</th>\n",
       "      <td>0</td>\n",
       "      <td>0.0%</td>\n",
       "    </tr>\n",
       "    <tr>\n",
       "      <th>bc_mean_change</th>\n",
       "      <td>0</td>\n",
       "      <td>0.0%</td>\n",
       "    </tr>\n",
       "    <tr>\n",
       "      <th>cc_distance</th>\n",
       "      <td>0</td>\n",
       "      <td>0.0%</td>\n",
       "    </tr>\n",
       "    <tr>\n",
       "      <th>cc_correlation</th>\n",
       "      <td>0</td>\n",
       "      <td>0.0%</td>\n",
       "    </tr>\n",
       "    <tr>\n",
       "      <th>cc_mean_change</th>\n",
       "      <td>0</td>\n",
       "      <td>0.0%</td>\n",
       "    </tr>\n",
       "    <tr>\n",
       "      <th>ec_distance</th>\n",
       "      <td>0</td>\n",
       "      <td>0.0%</td>\n",
       "    </tr>\n",
       "    <tr>\n",
       "      <th>ec_correlation</th>\n",
       "      <td>0</td>\n",
       "      <td>0.0%</td>\n",
       "    </tr>\n",
       "    <tr>\n",
       "      <th>ec_mean_change</th>\n",
       "      <td>0</td>\n",
       "      <td>0.0%</td>\n",
       "    </tr>\n",
       "    <tr>\n",
       "      <th>n</th>\n",
       "      <td>0</td>\n",
       "      <td>0.0%</td>\n",
       "    </tr>\n",
       "    <tr>\n",
       "      <th>m / n</th>\n",
       "      <td>0</td>\n",
       "      <td>0.0%</td>\n",
       "    </tr>\n",
       "    <tr>\n",
       "      <th>r</th>\n",
       "      <td>0</td>\n",
       "      <td>0.0%</td>\n",
       "    </tr>\n",
       "  </tbody>\n",
       "</table>\n",
       "</div>"
      ],
      "text/plain": [
       "                     missing_observations percentage\n",
       "sigma_mean                              0       0.0%\n",
       "sigma_variance                          0       0.0%\n",
       "uncertainty_mean                        0       0.0%\n",
       "uncertainty_variance                    0       0.0%\n",
       "dc_distance                             0       0.0%\n",
       "dc_correlation                          0       0.0%\n",
       "dc_mean_change                          0       0.0%\n",
       "bc_distance                             0       0.0%\n",
       "bc_correlation                          0       0.0%\n",
       "bc_mean_change                          0       0.0%\n",
       "cc_distance                             0       0.0%\n",
       "cc_correlation                          0       0.0%\n",
       "cc_mean_change                          0       0.0%\n",
       "ec_distance                             0       0.0%\n",
       "ec_correlation                          0       0.0%\n",
       "ec_mean_change                          0       0.0%\n",
       "n                                       0       0.0%\n",
       "m / n                                   0       0.0%\n",
       "r                                       0       0.0%"
      ]
     },
     "execution_count": 8,
     "metadata": {},
     "output_type": "execute_result"
    }
   ],
   "source": [
    "count_missing_values(ba_df)"
   ]
  },
  {
   "cell_type": "code",
   "execution_count": 9,
   "metadata": {},
   "outputs": [
    {
     "data": {
      "text/plain": [
       "(1000, 19)"
      ]
     },
     "execution_count": 9,
     "metadata": {},
     "output_type": "execute_result"
    }
   ],
   "source": [
    "ba_df.shape"
   ]
  },
  {
   "cell_type": "code",
   "execution_count": null,
   "metadata": {},
   "outputs": [],
   "source": [
    "ba_df = ba_df[ba_df['m / n'] < 1.0]\n",
    "ba_df.shape"
   ]
  },
  {
   "cell_type": "code",
   "execution_count": 10,
   "metadata": {},
   "outputs": [],
   "source": [
    "sns.set_style(\"whitegrid\")"
   ]
  },
  {
   "cell_type": "code",
   "execution_count": 11,
   "metadata": {
    "pycharm": {
     "name": "#%%\n"
    }
   },
   "outputs": [
    {
     "data": {
      "image/png": "[encoded data removed]",
      "text/plain": [
       "<Figure size 1131.18x432 with 10 Axes>"
      ]
     },
     "metadata": {},
     "output_type": "display_data"
    }
   ],
   "source": [
    "# SIGMA MEAN\n",
    "g = sns.FacetGrid(ba_df, col='m / n', hue=\"n\", col_wrap=col_wrap)\n",
    "g.map(sns.scatterplot, \"r\", \"sigma_mean\")\n",
    "g.set_xlabels(\"$G_{fr}$\")\n",
    "g.set_ylabels(\"$\\sigma$ Mean\")\n",
    "g.add_legend()\n",
    "plt.savefig('images/ba/sigma_mean.png', dpi=300, transparent=False);"
   ]
  },
  {
   "cell_type": "code",
   "execution_count": null,
   "metadata": {
    "pycharm": {
     "name": "#%%\n"
    }
   },
   "outputs": [],
   "source": [
    "# SIGMA VARIANCE\n",
    "g = sns.FacetGrid(ba_df, col='m / n', hue=\"n\", col_wrap=col_wrap)\n",
    "g.map(sns.scatterplot, \"r\", \"sigma_variance\")\n",
    "g.set_axis_labels(\"$G_{fr}$\", \"$\\sigma$ Variance\")\n",
    "g.add_legend()\n",
    "plt.savefig('images/ba/sigma_variance.png', dpi=300, transparent=False);\n"
   ]
  },
  {
   "cell_type": "code",
   "execution_count": null,
   "metadata": {
    "pycharm": {
     "name": "#%%\n"
    }
   },
   "outputs": [],
   "source": [
    "# UNCERTAINTY MEAN\n",
    "g = sns.FacetGrid(ba_df, col='m / n', hue=\"n\", col_wrap=col_wrap)\n",
    "g.map(sns.scatterplot, \"r\", \"uncertainty_mean\")\n",
    "g.set_axis_labels(\"$G_{fr}$\", \"Uncertainty Mean [bits]\")\n",
    "g.add_legend()\n",
    "plt.savefig('images/ba/uncertainty_mean.png', dpi=300, transparent=False);"
   ]
  },
  {
   "cell_type": "code",
   "execution_count": null,
   "metadata": {
    "pycharm": {
     "name": "#%%\n"
    }
   },
   "outputs": [],
   "source": [
    "# UNCERTAINTY VARIANCE\n",
    "g = sns.FacetGrid(ba_df, col='m / n', hue=\"n\", col_wrap=col_wrap)\n",
    "g.map(sns.scatterplot, \"r\", \"uncertainty_variance\")\n",
    "g.set_axis_labels(\"$G_{fr}$\", r\"Uncertainty Variance [$bits^2$]\")\n",
    "g.add_legend()\n",
    "plt.savefig('images/ba/uncertainty_variance.png', dpi=300, transparent=False);"
   ]
  },
  {
   "cell_type": "code",
   "execution_count": null,
   "metadata": {
    "pycharm": {
     "name": "#%%\n"
    }
   },
   "outputs": [],
   "source": [
    "for metric in metrics:\n",
    "\n",
    "    # Wasserstein distance\n",
    "    g = sns.FacetGrid(ba_df, col='m / n', hue=\"n\", col_wrap=col_wrap)\n",
    "    g.map(sns.scatterplot, \"r\", f\"{metric}_distance\")\n",
    "    g.set_axis_labels(\"$G_{fr}$\", f\"{metric.upper()} Wasserstein Distance\")\n",
    "    g.add_legend()\n",
    "    plt.savefig(f'images/ba/{metric}_distance.png', dpi=300, transparent=False)\n",
    "\n",
    "    # Spearman Rank correlation\n",
    "    g = sns.FacetGrid(ba_df, col='m / n', hue=\"n\", col_wrap=col_wrap)\n",
    "    g.map(sns.scatterplot, \"r\", f\"{metric}_correlation\")\n",
    "    g.set_axis_labels(\"$G_{fr}$\", f\"{metric.upper()} Spearman Coefficient\")\n",
    "    g.add_legend()\n",
    "    plt.savefig(f'images/ba/{metric}_correlation.png', dpi=300, transparent=False)\n",
    "\n",
    "    # Mean change\n",
    "    g = sns.FacetGrid(ba_df, col='m / n', hue=\"n\", col_wrap=col_wrap)\n",
    "    g.map(sns.scatterplot, \"r\", f\"{metric}_mean_change\")\n",
    "    g.set_axis_labels(\"$G_{fr}$\", f\"{metric.upper()} Mean Change\")\n",
    "    g.add_legend()\n",
    "    plt.savefig(f'images/ba/{metric}_mean_change.png', dpi=300, transparent=False)\n"
   ]
  }
 ],
 "metadata": {
  "kernelspec": {
   "display_name": "itam_intro_to_ds",
   "language": "python",
   "name": "itam_intro_to_ds"
  },
  "language_info": {
   "codemirror_mode": {
    "name": "ipython",
    "version": 3
   },
   "file_extension": ".py",
   "mimetype": "text/x-python",
   "name": "python",
   "nbconvert_exporter": "python",
   "pygments_lexer": "ipython3",
   "version": "3.7.4"
  }
 },
 "nbformat": 4,
 "nbformat_minor": 1
}
